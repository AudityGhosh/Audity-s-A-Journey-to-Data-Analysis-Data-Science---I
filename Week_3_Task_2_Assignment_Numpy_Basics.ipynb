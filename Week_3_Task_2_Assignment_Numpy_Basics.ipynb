{
 "cells": [
  {
   "cell_type": "markdown",
   "metadata": {},
   "source": [
    "# Week-3 Assignment: NumPy Basics  \n",
    "**Study Plan:** A Journey to Data Analysis & Data Science - I  \n",
    "**Assigned by:** Data Science & AI Community - RUET  \n",
    "\n",
    "\n",
    "\n",
    "### Notebook Details  \n",
    "**Author:** Audity Ghosh, CSE'17, RUET  \n",
    "**First Opened:** 3 January 2025  \n",
    "**Submitted:** 12 January 2025  \n",
    "\n",
    "\n",
    "\n",
    "### Assignment Overview  \n",
    "This assignment covers foundational skills in NumPy, focusing on array creation, indexing, slicing, reshaping, broadcasting, and basic statistical operations. It also includes a real-world problem-solving task related to sales data analysis.  \n",
    "\n",
    "**Total Marks:** 60  \n"
   ]
  },
  {
   "cell_type": "markdown",
   "metadata": {},
   "source": [
    "Importing necessary library"
   ]
  },
  {
   "cell_type": "code",
   "execution_count": 97,
   "metadata": {},
   "outputs": [],
   "source": [
    "import numpy as np"
   ]
  },
  {
   "cell_type": "markdown",
   "metadata": {},
   "source": [
    "1. Introduction to NumPy and Array Creation (10 Marks)\n",
    "- Create a 1D NumPy array with the elements [10, 20, 30, 40, 50]. (2 Marks)\n",
    "- Create a 2D array of shape (2, 3) using numpy.zeros. (3 Marks)\n",
    "- Use numpy.linspace to create an array of 5 evenly spaced numbers between 0 and 100. (5 Marks)"
   ]
  },
  {
   "cell_type": "code",
   "execution_count": 98,
   "metadata": {},
   "outputs": [
    {
     "name": "stdout",
     "output_type": "stream",
     "text": [
      "[10 20 30 40 50]\n"
     ]
    }
   ],
   "source": [
    "#solution\n",
    "arr = np.array([10,20,30,40,50])\n",
    "print(arr)"
   ]
  },
  {
   "cell_type": "code",
   "execution_count": 99,
   "metadata": {},
   "outputs": [
    {
     "name": "stdout",
     "output_type": "stream",
     "text": [
      "[[0 0 0]\n",
      " [0 0 0]]\n"
     ]
    }
   ],
   "source": [
    "#solution\n",
    "arr_zeros = np.zeros([2,3], dtype=int) # assuring all elements are integer\n",
    "print(arr_zeros) "
   ]
  },
  {
   "cell_type": "code",
   "execution_count": 100,
   "metadata": {},
   "outputs": [
    {
     "name": "stdout",
     "output_type": "stream",
     "text": [
      "[  0.  25.  50.  75. 100.]\n"
     ]
    }
   ],
   "source": [
    "#solution\n",
    "arr_5 = np.linspace(0,100,num=5) #start = 0, end = 100, how many numbers? = 5\n",
    "print(arr_5)"
   ]
  },
  {
   "cell_type": "markdown",
   "metadata": {},
   "source": [
    "2. Array Indexing and Slicing (10 Marks)\n",
    "- Using the 1D array [5, 10, 15, 20, 25, 30]:\n",
    "- Extract the first 3 elements. (2 Marks)\n",
    "- Extract every second element. (3 Marks)\n",
    "- Change the 4th element to 50 and print the updated array. (5 Marks)"
   ]
  },
  {
   "cell_type": "code",
   "execution_count": 101,
   "metadata": {},
   "outputs": [
    {
     "name": "stdout",
     "output_type": "stream",
     "text": [
      "[ 5 10 15 20 25 30]\n"
     ]
    }
   ],
   "source": [
    "\n",
    "arr = np.array([5,10,15,20,25,30])\n",
    "print(arr)"
   ]
  },
  {
   "cell_type": "code",
   "execution_count": 102,
   "metadata": {},
   "outputs": [
    {
     "data": {
      "text/plain": [
       "array([ 5, 10, 15])"
      ]
     },
     "execution_count": 102,
     "metadata": {},
     "output_type": "execute_result"
    }
   ],
   "source": [
    "#solution\n",
    "arr[:3] #extract only index 0 to 2"
   ]
  },
  {
   "cell_type": "code",
   "execution_count": 103,
   "metadata": {},
   "outputs": [
    {
     "data": {
      "text/plain": [
       "array([ 5, 15, 25])"
      ]
     },
     "execution_count": 103,
     "metadata": {},
     "output_type": "execute_result"
    }
   ],
   "source": [
    "#solution\n",
    "arr[::2] # start default 0 index, end default last element, interval 2"
   ]
  },
  {
   "cell_type": "code",
   "execution_count": 104,
   "metadata": {},
   "outputs": [
    {
     "name": "stdout",
     "output_type": "stream",
     "text": [
      "[ 5 10 15 50 25 30]\n"
     ]
    }
   ],
   "source": [
    "#solution\n",
    "arr[3]=50 # 4th element is on index 3\n",
    "print(arr)"
   ]
  },
  {
   "cell_type": "markdown",
   "metadata": {},
   "source": [
    "3. Reshaping Arrays (10 Marks)\n",
    "- Create a 1D array with 12 elements ranging from 1 to 12 using numpy.arange. (5 Marks)\n",
    "- Reshape it into a 2D array of shape (3, 4). (5 Marks)\n"
   ]
  },
  {
   "cell_type": "code",
   "execution_count": 105,
   "metadata": {},
   "outputs": [
    {
     "name": "stdout",
     "output_type": "stream",
     "text": [
      "[ 1  2  3  4  5  6  7  8  9 10 11 12]\n"
     ]
    }
   ],
   "source": [
    "#solution\n",
    "arr = np.arange(1,13) #as endpoint is not included, so added 13 to include 12\n",
    "print(arr)"
   ]
  },
  {
   "cell_type": "code",
   "execution_count": 106,
   "metadata": {},
   "outputs": [
    {
     "name": "stdout",
     "output_type": "stream",
     "text": [
      "[[ 1  2  3  4]\n",
      " [ 5  6  7  8]\n",
      " [ 9 10 11 12]]\n"
     ]
    }
   ],
   "source": [
    "#solution\n",
    "arr = arr.reshape([3,4])\n",
    "print(arr)"
   ]
  },
  {
   "cell_type": "markdown",
   "metadata": {},
   "source": [
    "4. Broadcasting and Element-wise Operations (10 Marks)\n",
    "- Create a 1D array with elements [1, 2, 3, 4, 5].\n",
    "- Perform the following operations: <br>\n",
    "-- Add 10 to each element. (2 Marks)<br>\n",
    "-- Multiply each element by 3. (3 Marks)<br>\n",
    "-- Calculate the square of each element. (5 Marks)<br>\n"
   ]
  },
  {
   "cell_type": "code",
   "execution_count": 107,
   "metadata": {},
   "outputs": [
    {
     "name": "stdout",
     "output_type": "stream",
     "text": [
      "[1 2 3 4 5]\n"
     ]
    }
   ],
   "source": [
    "#solution\n",
    "arr = np.arange(1,6) #as endpoint is not included, so added 6 to include 5\n",
    "print(arr)"
   ]
  },
  {
   "cell_type": "code",
   "execution_count": 108,
   "metadata": {},
   "outputs": [
    {
     "name": "stdout",
     "output_type": "stream",
     "text": [
      "[11 12 13 14 15]\n"
     ]
    }
   ],
   "source": [
    "#solution\n",
    "arr = arr + 10 # adding 10 to each element\n",
    "print(arr)"
   ]
  },
  {
   "cell_type": "code",
   "execution_count": 109,
   "metadata": {},
   "outputs": [
    {
     "name": "stdout",
     "output_type": "stream",
     "text": [
      "[33 36 39 42 45]\n"
     ]
    }
   ],
   "source": [
    "#solution\n",
    "arr = arr * 3 # multiplying 3 to each element\n",
    "print(arr)"
   ]
  },
  {
   "cell_type": "code",
   "execution_count": 110,
   "metadata": {},
   "outputs": [
    {
     "name": "stdout",
     "output_type": "stream",
     "text": [
      "[1089 1296 1521 1764 2025]\n"
     ]
    }
   ],
   "source": [
    "#solution\n",
    "arr = np.square(arr)\n",
    "print(arr)"
   ]
  },
  {
   "cell_type": "markdown",
   "metadata": {},
   "source": [
    "5. Basic Statistics with Arrays (10 Marks)\n",
    "- Create a NumPy array representing daily temperatures for a week: [30, 32, 31, 29, 28, 33, 34].\n",
    "- Find the mean temperature of the week. (3 Marks)\n",
    "- Find the minimum and maximum temperatures. (3 Marks)\n",
    "- Calculate the total sum of the temperatures. (4 Marks)\n"
   ]
  },
  {
   "cell_type": "code",
   "execution_count": 111,
   "metadata": {},
   "outputs": [
    {
     "name": "stdout",
     "output_type": "stream",
     "text": [
      "[30 32 31 29 28 33 34]\n"
     ]
    }
   ],
   "source": [
    "#solution\n",
    "temp = np.array([30,32,31,29,28,33,34])\n",
    "print(temp)\n"
   ]
  },
  {
   "cell_type": "code",
   "execution_count": 112,
   "metadata": {},
   "outputs": [
    {
     "data": {
      "text/plain": [
       "31.0"
      ]
     },
     "execution_count": 112,
     "metadata": {},
     "output_type": "execute_result"
    }
   ],
   "source": [
    "#solution\n",
    "temp.mean()"
   ]
  },
  {
   "cell_type": "code",
   "execution_count": 113,
   "metadata": {},
   "outputs": [
    {
     "name": "stdout",
     "output_type": "stream",
     "text": [
      "28\n",
      "34\n"
     ]
    }
   ],
   "source": [
    "#solution\n",
    "print(temp.min())\n",
    "print(temp.max())"
   ]
  },
  {
   "cell_type": "code",
   "execution_count": 114,
   "metadata": {},
   "outputs": [
    {
     "data": {
      "text/plain": [
       "217"
      ]
     },
     "execution_count": 114,
     "metadata": {},
     "output_type": "execute_result"
    }
   ],
   "source": [
    "#solution\n",
    "temp.sum()"
   ]
  },
  {
   "cell_type": "markdown",
   "metadata": {},
   "source": [
    "6. Real-World Problem: Sales Analysis (10 Marks)\n",
    "- Create a 2D array representing sales data for 2 products over 5 days:\n",
    "Product 1: [200, 220, 250, 270, 300]  \n",
    "Product 2: [150, 160, 170, 180, 200]  \n",
    "\n",
    "\n",
    "- Calculate the total sales for each product. (4 Marks)\n",
    "- Calculate the average sales per day. (3 Marks)\n",
    "- Find the day with the highest sales for each product. (3 Marks)\n"
   ]
  },
  {
   "cell_type": "code",
   "execution_count": 115,
   "metadata": {},
   "outputs": [
    {
     "name": "stdout",
     "output_type": "stream",
     "text": [
      "[[200 220 250 270 300]\n",
      " [150 160 170 180 200]]\n"
     ]
    }
   ],
   "source": [
    "#solution\n",
    "sales_data = np.array([[200,220,250,270,300], [150,160,170,180,200]])\n",
    "print(sales_data)"
   ]
  },
  {
   "cell_type": "code",
   "execution_count": 116,
   "metadata": {},
   "outputs": [
    {
     "name": "stdout",
     "output_type": "stream",
     "text": [
      "1240\n",
      "860\n"
     ]
    }
   ],
   "source": [
    "#solution\n",
    "total_sales_product1 = sales_data[0].sum()\n",
    "print(total_sales_product1)\n",
    "total_sales_product2 = sales_data[1].sum()\n",
    "print(total_sales_product2)"
   ]
  },
  {
   "cell_type": "code",
   "execution_count": 117,
   "metadata": {},
   "outputs": [
    {
     "name": "stdout",
     "output_type": "stream",
     "text": [
      "Average sales per day: 420.0\n",
      "Average sales per day (col-wise): [175. 190. 210. 225. 250.]\n"
     ]
    }
   ],
   "source": [
    "#solution\n",
    "\n",
    "# Calculate the total sales for all products over all days\n",
    "total_sales_5_days = np.sum(sales_data, axis=0)  # Sum along columns (axis=0), i.e., daily total sales\n",
    "\n",
    "# Calculate the average sales per day\n",
    "average_sales_per_day = np.mean(total_sales_5_days)  # Mean of daily total sales\n",
    "\n",
    "# Display the result\n",
    "print(\"Average sales per day:\", average_sales_per_day)\n",
    "\n",
    "# Calculate the average sales per day column-wise (mean along axis 0)\n",
    "average_sales_per_day = np.mean(sales_data, axis=0)\n",
    "\n",
    "# Display the result\n",
    "print(\"Average sales per day (col-wise):\", average_sales_per_day)"
   ]
  },
  {
   "cell_type": "code",
   "execution_count": 118,
   "metadata": {},
   "outputs": [
    {
     "name": "stdout",
     "output_type": "stream",
     "text": [
      "Day with highest sales for Product 1: 5\n",
      "Day with highest sales for Product 2: 5\n"
     ]
    }
   ],
   "source": [
    "#solution\n",
    "\n",
    "# Find the day with the highest sales for Product 1 (index of max value)\n",
    "product_1_highest_day = np.argmax(sales_data[0]) + 1  # Add 1 to convert to 1-based index\n",
    "\n",
    "# Find the day with the highest sales for Product 2 (index of max value)\n",
    "product_2_highest_day = np.argmax(sales_data[1]) + 1  # Add 1 to convert to 1-based index\n",
    "\n",
    "# Display the results\n",
    "print(\"Day with highest sales for Product 1:\", product_1_highest_day)\n",
    "print(\"Day with highest sales for Product 2:\", product_2_highest_day)"
   ]
  }
 ],
 "metadata": {
  "kernelspec": {
   "display_name": "Python 3",
   "language": "python",
   "name": "python3"
  },
  "language_info": {
   "codemirror_mode": {
    "name": "ipython",
    "version": 3
   },
   "file_extension": ".py",
   "mimetype": "text/x-python",
   "name": "python",
   "nbconvert_exporter": "python",
   "pygments_lexer": "ipython3",
   "version": "3.9.5"
  }
 },
 "nbformat": 4,
 "nbformat_minor": 2
}
